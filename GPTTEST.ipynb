{
 "cells": [
  {
   "cell_type": "code",
   "execution_count": 38,
   "id": "dd3e7ad3-0894-4258-9796-c24988ef2411",
   "metadata": {},
   "outputs": [
    {
     "data": {
      "text/html": [
       "<div>\n",
       "<style scoped>\n",
       "    .dataframe tbody tr th:only-of-type {\n",
       "        vertical-align: middle;\n",
       "    }\n",
       "\n",
       "    .dataframe tbody tr th {\n",
       "        vertical-align: top;\n",
       "    }\n",
       "\n",
       "    .dataframe thead th {\n",
       "        text-align: right;\n",
       "    }\n",
       "</style>\n",
       "<table border=\"1\" class=\"dataframe\">\n",
       "  <thead>\n",
       "    <tr style=\"text-align: right;\">\n",
       "      <th></th>\n",
       "      <th>OrderID</th>\n",
       "      <th>Product</th>\n",
       "      <th>Category</th>\n",
       "      <th>Quantity</th>\n",
       "      <th>UnitPrice</th>\n",
       "      <th>OrderDate</th>\n",
       "      <th>Region</th>\n",
       "    </tr>\n",
       "  </thead>\n",
       "  <tbody>\n",
       "    <tr>\n",
       "      <th>0</th>\n",
       "      <td>ORD0001</td>\n",
       "      <td>Headphones</td>\n",
       "      <td>Accessories</td>\n",
       "      <td>4</td>\n",
       "      <td>1078.02</td>\n",
       "      <td>2023-08-15</td>\n",
       "      <td>South</td>\n",
       "    </tr>\n",
       "    <tr>\n",
       "      <th>1</th>\n",
       "      <td>ORD0002</td>\n",
       "      <td>Monitor</td>\n",
       "      <td>Electronics</td>\n",
       "      <td>9</td>\n",
       "      <td>700.55</td>\n",
       "      <td>2023-12-01</td>\n",
       "      <td>West</td>\n",
       "    </tr>\n",
       "    <tr>\n",
       "      <th>2</th>\n",
       "      <td>ORD0003</td>\n",
       "      <td>Camera</td>\n",
       "      <td>Electronics</td>\n",
       "      <td>10</td>\n",
       "      <td>241.99</td>\n",
       "      <td>2023-12-14</td>\n",
       "      <td>East</td>\n",
       "    </tr>\n",
       "    <tr>\n",
       "      <th>3</th>\n",
       "      <td>ORD0004</td>\n",
       "      <td>Mouse</td>\n",
       "      <td>Accessories</td>\n",
       "      <td>2</td>\n",
       "      <td>1407.45</td>\n",
       "      <td>2023-09-09</td>\n",
       "      <td>East</td>\n",
       "    </tr>\n",
       "    <tr>\n",
       "      <th>4</th>\n",
       "      <td>ORD0005</td>\n",
       "      <td>Printer</td>\n",
       "      <td>Office</td>\n",
       "      <td>1</td>\n",
       "      <td>53.35</td>\n",
       "      <td>2023-01-03</td>\n",
       "      <td>North</td>\n",
       "    </tr>\n",
       "    <tr>\n",
       "      <th>...</th>\n",
       "      <td>...</td>\n",
       "      <td>...</td>\n",
       "      <td>...</td>\n",
       "      <td>...</td>\n",
       "      <td>...</td>\n",
       "      <td>...</td>\n",
       "      <td>...</td>\n",
       "    </tr>\n",
       "    <tr>\n",
       "      <th>295</th>\n",
       "      <td>ORD0296</td>\n",
       "      <td>Laptop</td>\n",
       "      <td>Electronics</td>\n",
       "      <td>9</td>\n",
       "      <td>495.82</td>\n",
       "      <td>2023-05-23</td>\n",
       "      <td>North</td>\n",
       "    </tr>\n",
       "    <tr>\n",
       "      <th>296</th>\n",
       "      <td>ORD0297</td>\n",
       "      <td>Monitor</td>\n",
       "      <td>Electronics</td>\n",
       "      <td>4</td>\n",
       "      <td>290.32</td>\n",
       "      <td>2023-07-24</td>\n",
       "      <td>North</td>\n",
       "    </tr>\n",
       "    <tr>\n",
       "      <th>297</th>\n",
       "      <td>ORD0298</td>\n",
       "      <td>Smartphone</td>\n",
       "      <td>Electronics</td>\n",
       "      <td>5</td>\n",
       "      <td>1476.12</td>\n",
       "      <td>2023-06-29</td>\n",
       "      <td>North</td>\n",
       "    </tr>\n",
       "    <tr>\n",
       "      <th>298</th>\n",
       "      <td>ORD0299</td>\n",
       "      <td>Headphones</td>\n",
       "      <td>Accessories</td>\n",
       "      <td>5</td>\n",
       "      <td>793.68</td>\n",
       "      <td>2023-02-22</td>\n",
       "      <td>West</td>\n",
       "    </tr>\n",
       "    <tr>\n",
       "      <th>299</th>\n",
       "      <td>ORD0300</td>\n",
       "      <td>Smartphone</td>\n",
       "      <td>Electronics</td>\n",
       "      <td>9</td>\n",
       "      <td>796.64</td>\n",
       "      <td>2023-05-31</td>\n",
       "      <td>East</td>\n",
       "    </tr>\n",
       "  </tbody>\n",
       "</table>\n",
       "<p>300 rows × 7 columns</p>\n",
       "</div>"
      ],
      "text/plain": [
       "     OrderID     Product     Category  Quantity  UnitPrice   OrderDate Region\n",
       "0    ORD0001  Headphones  Accessories         4    1078.02  2023-08-15  South\n",
       "1    ORD0002     Monitor  Electronics         9     700.55  2023-12-01   West\n",
       "2    ORD0003      Camera  Electronics        10     241.99  2023-12-14   East\n",
       "3    ORD0004       Mouse  Accessories         2    1407.45  2023-09-09   East\n",
       "4    ORD0005     Printer       Office         1      53.35  2023-01-03  North\n",
       "..       ...         ...          ...       ...        ...         ...    ...\n",
       "295  ORD0296      Laptop  Electronics         9     495.82  2023-05-23  North\n",
       "296  ORD0297     Monitor  Electronics         4     290.32  2023-07-24  North\n",
       "297  ORD0298  Smartphone  Electronics         5    1476.12  2023-06-29  North\n",
       "298  ORD0299  Headphones  Accessories         5     793.68  2023-02-22   West\n",
       "299  ORD0300  Smartphone  Electronics         9     796.64  2023-05-31   East\n",
       "\n",
       "[300 rows x 7 columns]"
      ]
     },
     "execution_count": 38,
     "metadata": {},
     "output_type": "execute_result"
    }
   ],
   "source": [
    "import pandas as pd \n",
    "import numpy as np\n",
    "df=pd.read_excel(r'C:\\Users\\AFAK\\saleee.xlsx')\n",
    "df"
   ]
  },
  {
   "cell_type": "code",
   "execution_count": 36,
   "id": "29ceeb89-c353-4e32-a8bf-ed22017a0f5a",
   "metadata": {},
   "outputs": [
    {
     "data": {
      "text/plain": [
       "<bound method DataFrame.drop_duplicates of      OrderID     Product     Category  Quantity  UnitPrice   OrderDate Region\n",
       "0    ORD0001  Headphones  Accessories         4    1078.02  2023-08-15  South\n",
       "1    ORD0002     Monitor  Electronics         9     700.55  2023-12-01   West\n",
       "2    ORD0003      Camera  Electronics        10     241.99  2023-12-14   East\n",
       "3    ORD0004       Mouse  Accessories         2    1407.45  2023-09-09   East\n",
       "4    ORD0005     Printer       Office         1      53.35  2023-01-03  North\n",
       "..       ...         ...          ...       ...        ...         ...    ...\n",
       "295  ORD0296      Laptop  Electronics         9     495.82  2023-05-23  North\n",
       "296  ORD0297     Monitor  Electronics         4     290.32  2023-07-24  North\n",
       "297  ORD0298  Smartphone  Electronics         5    1476.12  2023-06-29  North\n",
       "298  ORD0299  Headphones  Accessories         5     793.68  2023-02-22   West\n",
       "299  ORD0300  Smartphone  Electronics         9     796.64  2023-05-31   East\n",
       "\n",
       "[300 rows x 7 columns]>"
      ]
     },
     "execution_count": 36,
     "metadata": {},
     "output_type": "execute_result"
    }
   ],
   "source": [
    "df.drop_duplicates\n"
   ]
  },
  {
   "cell_type": "code",
   "execution_count": 3,
   "id": "c5150a7d-f824-40f8-b484-1e36197b70e2",
   "metadata": {},
   "outputs": [
    {
     "data": {
      "text/plain": [
       "<bound method DataFrame.dropna of      OrderID     Product     Category  Quantity  UnitPrice   OrderDate Region\n",
       "0    ORD0001  Headphones  Accessories         4    1078.02  2023-08-15  South\n",
       "1    ORD0002     Monitor  Electronics         9     700.55  2023-12-01   West\n",
       "2    ORD0003      Camera  Electronics        10     241.99  2023-12-14   East\n",
       "3    ORD0004       Mouse  Accessories         2    1407.45  2023-09-09   East\n",
       "4    ORD0005     Printer       Office         1      53.35  2023-01-03  North\n",
       "..       ...         ...          ...       ...        ...         ...    ...\n",
       "295  ORD0296      Laptop  Electronics         9     495.82  2023-05-23  North\n",
       "296  ORD0297     Monitor  Electronics         4     290.32  2023-07-24  North\n",
       "297  ORD0298  Smartphone  Electronics         5    1476.12  2023-06-29  North\n",
       "298  ORD0299  Headphones  Accessories         5     793.68  2023-02-22   West\n",
       "299  ORD0300  Smartphone  Electronics         9     796.64  2023-05-31   East\n",
       "\n",
       "[300 rows x 7 columns]>"
      ]
     },
     "execution_count": 3,
     "metadata": {},
     "output_type": "execute_result"
    }
   ],
   "source": [
    "df.dropna"
   ]
  },
  {
   "cell_type": "code",
   "execution_count": 4,
   "id": "075399db-37e1-4d69-8bdf-46978aba2000",
   "metadata": {},
   "outputs": [
    {
     "data": {
      "text/html": [
       "<div>\n",
       "<style scoped>\n",
       "    .dataframe tbody tr th:only-of-type {\n",
       "        vertical-align: middle;\n",
       "    }\n",
       "\n",
       "    .dataframe tbody tr th {\n",
       "        vertical-align: top;\n",
       "    }\n",
       "\n",
       "    .dataframe thead th {\n",
       "        text-align: right;\n",
       "    }\n",
       "</style>\n",
       "<table border=\"1\" class=\"dataframe\">\n",
       "  <thead>\n",
       "    <tr style=\"text-align: right;\">\n",
       "      <th></th>\n",
       "      <th>OrderID</th>\n",
       "      <th>Product</th>\n",
       "      <th>Category</th>\n",
       "      <th>Quantity</th>\n",
       "      <th>UnitPrice</th>\n",
       "      <th>OrderDate</th>\n",
       "      <th>Region</th>\n",
       "    </tr>\n",
       "  </thead>\n",
       "  <tbody>\n",
       "    <tr>\n",
       "      <th>0</th>\n",
       "      <td>ORD0001</td>\n",
       "      <td>Headphones</td>\n",
       "      <td>Accessories</td>\n",
       "      <td>4</td>\n",
       "      <td>1078.02</td>\n",
       "      <td>2023-08-15</td>\n",
       "      <td>South</td>\n",
       "    </tr>\n",
       "    <tr>\n",
       "      <th>1</th>\n",
       "      <td>ORD0002</td>\n",
       "      <td>Monitor</td>\n",
       "      <td>Electronics</td>\n",
       "      <td>9</td>\n",
       "      <td>700.55</td>\n",
       "      <td>2023-12-01</td>\n",
       "      <td>West</td>\n",
       "    </tr>\n",
       "    <tr>\n",
       "      <th>2</th>\n",
       "      <td>ORD0003</td>\n",
       "      <td>Camera</td>\n",
       "      <td>Electronics</td>\n",
       "      <td>10</td>\n",
       "      <td>241.99</td>\n",
       "      <td>2023-12-14</td>\n",
       "      <td>East</td>\n",
       "    </tr>\n",
       "    <tr>\n",
       "      <th>3</th>\n",
       "      <td>ORD0004</td>\n",
       "      <td>Mouse</td>\n",
       "      <td>Accessories</td>\n",
       "      <td>2</td>\n",
       "      <td>1407.45</td>\n",
       "      <td>2023-09-09</td>\n",
       "      <td>East</td>\n",
       "    </tr>\n",
       "    <tr>\n",
       "      <th>4</th>\n",
       "      <td>ORD0005</td>\n",
       "      <td>Printer</td>\n",
       "      <td>Office</td>\n",
       "      <td>1</td>\n",
       "      <td>53.35</td>\n",
       "      <td>2023-01-03</td>\n",
       "      <td>North</td>\n",
       "    </tr>\n",
       "  </tbody>\n",
       "</table>\n",
       "</div>"
      ],
      "text/plain": [
       "   OrderID     Product     Category  Quantity  UnitPrice   OrderDate Region\n",
       "0  ORD0001  Headphones  Accessories         4    1078.02  2023-08-15  South\n",
       "1  ORD0002     Monitor  Electronics         9     700.55  2023-12-01   West\n",
       "2  ORD0003      Camera  Electronics        10     241.99  2023-12-14   East\n",
       "3  ORD0004       Mouse  Accessories         2    1407.45  2023-09-09   East\n",
       "4  ORD0005     Printer       Office         1      53.35  2023-01-03  North"
      ]
     },
     "execution_count": 4,
     "metadata": {},
     "output_type": "execute_result"
    }
   ],
   "source": [
    "df.head()"
   ]
  },
  {
   "cell_type": "code",
   "execution_count": 5,
   "id": "84d90b51-ec9f-4414-ac0c-b3de6a0ef1c1",
   "metadata": {},
   "outputs": [
    {
     "data": {
      "text/plain": [
       "<bound method DataFrame.info of      OrderID     Product     Category  Quantity  UnitPrice   OrderDate Region\n",
       "0    ORD0001  Headphones  Accessories         4    1078.02  2023-08-15  South\n",
       "1    ORD0002     Monitor  Electronics         9     700.55  2023-12-01   West\n",
       "2    ORD0003      Camera  Electronics        10     241.99  2023-12-14   East\n",
       "3    ORD0004       Mouse  Accessories         2    1407.45  2023-09-09   East\n",
       "4    ORD0005     Printer       Office         1      53.35  2023-01-03  North\n",
       "..       ...         ...          ...       ...        ...         ...    ...\n",
       "295  ORD0296      Laptop  Electronics         9     495.82  2023-05-23  North\n",
       "296  ORD0297     Monitor  Electronics         4     290.32  2023-07-24  North\n",
       "297  ORD0298  Smartphone  Electronics         5    1476.12  2023-06-29  North\n",
       "298  ORD0299  Headphones  Accessories         5     793.68  2023-02-22   West\n",
       "299  ORD0300  Smartphone  Electronics         9     796.64  2023-05-31   East\n",
       "\n",
       "[300 rows x 7 columns]>"
      ]
     },
     "execution_count": 5,
     "metadata": {},
     "output_type": "execute_result"
    }
   ],
   "source": [
    "df.info\n"
   ]
  },
  {
   "cell_type": "code",
   "execution_count": 6,
   "id": "d6b17029-5191-4b4d-b17c-45199a1b5ae2",
   "metadata": {},
   "outputs": [
    {
     "data": {
      "text/html": [
       "<div>\n",
       "<style scoped>\n",
       "    .dataframe tbody tr th:only-of-type {\n",
       "        vertical-align: middle;\n",
       "    }\n",
       "\n",
       "    .dataframe tbody tr th {\n",
       "        vertical-align: top;\n",
       "    }\n",
       "\n",
       "    .dataframe thead th {\n",
       "        text-align: right;\n",
       "    }\n",
       "</style>\n",
       "<table border=\"1\" class=\"dataframe\">\n",
       "  <thead>\n",
       "    <tr style=\"text-align: right;\">\n",
       "      <th></th>\n",
       "      <th>Quantity</th>\n",
       "      <th>UnitPrice</th>\n",
       "    </tr>\n",
       "  </thead>\n",
       "  <tbody>\n",
       "    <tr>\n",
       "      <th>count</th>\n",
       "      <td>300.000000</td>\n",
       "      <td>300.000000</td>\n",
       "    </tr>\n",
       "    <tr>\n",
       "      <th>mean</th>\n",
       "      <td>5.476667</td>\n",
       "      <td>706.416600</td>\n",
       "    </tr>\n",
       "    <tr>\n",
       "      <th>std</th>\n",
       "      <td>3.004365</td>\n",
       "      <td>433.599563</td>\n",
       "    </tr>\n",
       "    <tr>\n",
       "      <th>min</th>\n",
       "      <td>1.000000</td>\n",
       "      <td>27.010000</td>\n",
       "    </tr>\n",
       "    <tr>\n",
       "      <th>25%</th>\n",
       "      <td>3.000000</td>\n",
       "      <td>311.492500</td>\n",
       "    </tr>\n",
       "    <tr>\n",
       "      <th>50%</th>\n",
       "      <td>5.000000</td>\n",
       "      <td>704.405000</td>\n",
       "    </tr>\n",
       "    <tr>\n",
       "      <th>75%</th>\n",
       "      <td>8.000000</td>\n",
       "      <td>1054.757500</td>\n",
       "    </tr>\n",
       "    <tr>\n",
       "      <th>max</th>\n",
       "      <td>10.000000</td>\n",
       "      <td>1498.430000</td>\n",
       "    </tr>\n",
       "  </tbody>\n",
       "</table>\n",
       "</div>"
      ],
      "text/plain": [
       "         Quantity    UnitPrice\n",
       "count  300.000000   300.000000\n",
       "mean     5.476667   706.416600\n",
       "std      3.004365   433.599563\n",
       "min      1.000000    27.010000\n",
       "25%      3.000000   311.492500\n",
       "50%      5.000000   704.405000\n",
       "75%      8.000000  1054.757500\n",
       "max     10.000000  1498.430000"
      ]
     },
     "execution_count": 6,
     "metadata": {},
     "output_type": "execute_result"
    }
   ],
   "source": [
    "df.describe()"
   ]
  },
  {
   "cell_type": "code",
   "execution_count": 7,
   "id": "4c3bb29a-661b-433b-a913-356975fe5e68",
   "metadata": {},
   "outputs": [
    {
     "data": {
      "text/html": [
       "<div>\n",
       "<style scoped>\n",
       "    .dataframe tbody tr th:only-of-type {\n",
       "        vertical-align: middle;\n",
       "    }\n",
       "\n",
       "    .dataframe tbody tr th {\n",
       "        vertical-align: top;\n",
       "    }\n",
       "\n",
       "    .dataframe thead th {\n",
       "        text-align: right;\n",
       "    }\n",
       "</style>\n",
       "<table border=\"1\" class=\"dataframe\">\n",
       "  <thead>\n",
       "    <tr style=\"text-align: right;\">\n",
       "      <th></th>\n",
       "      <th>OrderID</th>\n",
       "      <th>Product</th>\n",
       "      <th>Category</th>\n",
       "      <th>Quantity</th>\n",
       "      <th>UnitPrice</th>\n",
       "      <th>OrderDate</th>\n",
       "      <th>Region</th>\n",
       "    </tr>\n",
       "  </thead>\n",
       "  <tbody>\n",
       "    <tr>\n",
       "      <th>0</th>\n",
       "      <td>ORD0001</td>\n",
       "      <td>Headphones</td>\n",
       "      <td>Accessories</td>\n",
       "      <td>4</td>\n",
       "      <td>1078.02</td>\n",
       "      <td>2023-08-15</td>\n",
       "      <td>South</td>\n",
       "    </tr>\n",
       "    <tr>\n",
       "      <th>1</th>\n",
       "      <td>ORD0002</td>\n",
       "      <td>Monitor</td>\n",
       "      <td>Electronics</td>\n",
       "      <td>9</td>\n",
       "      <td>700.55</td>\n",
       "      <td>2023-12-01</td>\n",
       "      <td>West</td>\n",
       "    </tr>\n",
       "    <tr>\n",
       "      <th>2</th>\n",
       "      <td>ORD0003</td>\n",
       "      <td>Camera</td>\n",
       "      <td>Electronics</td>\n",
       "      <td>10</td>\n",
       "      <td>241.99</td>\n",
       "      <td>2023-12-14</td>\n",
       "      <td>East</td>\n",
       "    </tr>\n",
       "    <tr>\n",
       "      <th>3</th>\n",
       "      <td>ORD0004</td>\n",
       "      <td>Mouse</td>\n",
       "      <td>Accessories</td>\n",
       "      <td>2</td>\n",
       "      <td>1407.45</td>\n",
       "      <td>2023-09-09</td>\n",
       "      <td>East</td>\n",
       "    </tr>\n",
       "    <tr>\n",
       "      <th>4</th>\n",
       "      <td>ORD0005</td>\n",
       "      <td>Printer</td>\n",
       "      <td>Office</td>\n",
       "      <td>1</td>\n",
       "      <td>53.35</td>\n",
       "      <td>2023-01-03</td>\n",
       "      <td>North</td>\n",
       "    </tr>\n",
       "  </tbody>\n",
       "</table>\n",
       "</div>"
      ],
      "text/plain": [
       "   OrderID     Product     Category  Quantity  UnitPrice   OrderDate Region\n",
       "0  ORD0001  Headphones  Accessories         4    1078.02  2023-08-15  South\n",
       "1  ORD0002     Monitor  Electronics         9     700.55  2023-12-01   West\n",
       "2  ORD0003      Camera  Electronics        10     241.99  2023-12-14   East\n",
       "3  ORD0004       Mouse  Accessories         2    1407.45  2023-09-09   East\n",
       "4  ORD0005     Printer       Office         1      53.35  2023-01-03  North"
      ]
     },
     "execution_count": 7,
     "metadata": {},
     "output_type": "execute_result"
    }
   ],
   "source": [
    "df.head(5)"
   ]
  },
  {
   "cell_type": "code",
   "execution_count": 8,
   "id": "26385d43-029f-413f-b6e6-b8d54896788a",
   "metadata": {},
   "outputs": [],
   "source": [
    "df['datet']=pd.to_datetime(df['OrderDate'])"
   ]
  },
  {
   "cell_type": "code",
   "execution_count": 9,
   "id": "4850e9ac-df12-44e5-92ea-2c64f602f146",
   "metadata": {},
   "outputs": [
    {
     "data": {
      "text/plain": [
       "[700.55,\n",
       " 241.99,\n",
       " 221.81,\n",
       " 217.89,\n",
       " 725.06,\n",
       " 869.56,\n",
       " 345.4,\n",
       " 299.62,\n",
       " 823.05,\n",
       " 410.08,\n",
       " 421.18,\n",
       " 1443.87,\n",
       " 148.85,\n",
       " 851.14,\n",
       " 515.42,\n",
       " 983.6,\n",
       " 530.72,\n",
       " 905.78,\n",
       " 143.27,\n",
       " 1054.68,\n",
       " 423.23,\n",
       " 313.08,\n",
       " 1047.93,\n",
       " 1085.62,\n",
       " 249.76,\n",
       " 1194.19,\n",
       " 1327.82]"
      ]
     },
     "execution_count": 9,
     "metadata": {},
     "output_type": "execute_result"
    }
   ],
   "source": [
    "dff=[]\n",
    "i=1\n",
    "for i in range(1,300):\n",
    "    if df['datet'].dt.month[i]==12:\n",
    "      dff.append(df['UnitPrice'][i])\n",
    "    else : j=i+1\n",
    "dff    "
   ]
  },
  {
   "cell_type": "code",
   "execution_count": 10,
   "id": "9361af10-29cb-496b-8e90-f0a70fa02f79",
   "metadata": {},
   "outputs": [
    {
     "data": {
      "text/plain": [
       "17495.15"
      ]
     },
     "execution_count": 10,
     "metadata": {},
     "output_type": "execute_result"
    }
   ],
   "source": [
    "summe=sum(dff)\n",
    "summe"
   ]
  },
  {
   "cell_type": "code",
   "execution_count": 11,
   "id": "dd3adfc1-8a24-4292-bd3c-7141e2b6e0bf",
   "metadata": {},
   "outputs": [
    {
     "data": {
      "text/plain": [
       "647.9685185185185"
      ]
     },
     "execution_count": 11,
     "metadata": {},
     "output_type": "execute_result"
    }
   ],
   "source": [
    "ave=summe/len(dff)\n",
    "ave"
   ]
  },
  {
   "cell_type": "code",
   "execution_count": 12,
   "id": "94070d92-2a9f-4c17-be49-bd5f3c9f0437",
   "metadata": {},
   "outputs": [
    {
     "data": {
      "text/html": [
       "<div>\n",
       "<style scoped>\n",
       "    .dataframe tbody tr th:only-of-type {\n",
       "        vertical-align: middle;\n",
       "    }\n",
       "\n",
       "    .dataframe tbody tr th {\n",
       "        vertical-align: top;\n",
       "    }\n",
       "\n",
       "    .dataframe thead th {\n",
       "        text-align: right;\n",
       "    }\n",
       "</style>\n",
       "<table border=\"1\" class=\"dataframe\">\n",
       "  <thead>\n",
       "    <tr style=\"text-align: right;\">\n",
       "      <th></th>\n",
       "      <th>OrderID</th>\n",
       "      <th>Product</th>\n",
       "      <th>Category</th>\n",
       "      <th>Quantity</th>\n",
       "      <th>UnitPrice</th>\n",
       "      <th>OrderDate</th>\n",
       "      <th>Region</th>\n",
       "      <th>datet</th>\n",
       "      <th>total</th>\n",
       "    </tr>\n",
       "  </thead>\n",
       "  <tbody>\n",
       "    <tr>\n",
       "      <th>0</th>\n",
       "      <td>ORD0001</td>\n",
       "      <td>Headphones</td>\n",
       "      <td>Accessories</td>\n",
       "      <td>4</td>\n",
       "      <td>1078.02</td>\n",
       "      <td>2023-08-15</td>\n",
       "      <td>South</td>\n",
       "      <td>2023-08-15</td>\n",
       "      <td>4312.08</td>\n",
       "    </tr>\n",
       "    <tr>\n",
       "      <th>1</th>\n",
       "      <td>ORD0002</td>\n",
       "      <td>Monitor</td>\n",
       "      <td>Electronics</td>\n",
       "      <td>9</td>\n",
       "      <td>700.55</td>\n",
       "      <td>2023-12-01</td>\n",
       "      <td>West</td>\n",
       "      <td>2023-12-01</td>\n",
       "      <td>6304.95</td>\n",
       "    </tr>\n",
       "    <tr>\n",
       "      <th>2</th>\n",
       "      <td>ORD0003</td>\n",
       "      <td>Camera</td>\n",
       "      <td>Electronics</td>\n",
       "      <td>10</td>\n",
       "      <td>241.99</td>\n",
       "      <td>2023-12-14</td>\n",
       "      <td>East</td>\n",
       "      <td>2023-12-14</td>\n",
       "      <td>2419.90</td>\n",
       "    </tr>\n",
       "    <tr>\n",
       "      <th>3</th>\n",
       "      <td>ORD0004</td>\n",
       "      <td>Mouse</td>\n",
       "      <td>Accessories</td>\n",
       "      <td>2</td>\n",
       "      <td>1407.45</td>\n",
       "      <td>2023-09-09</td>\n",
       "      <td>East</td>\n",
       "      <td>2023-09-09</td>\n",
       "      <td>2814.90</td>\n",
       "    </tr>\n",
       "    <tr>\n",
       "      <th>4</th>\n",
       "      <td>ORD0005</td>\n",
       "      <td>Printer</td>\n",
       "      <td>Office</td>\n",
       "      <td>1</td>\n",
       "      <td>53.35</td>\n",
       "      <td>2023-01-03</td>\n",
       "      <td>North</td>\n",
       "      <td>2023-01-03</td>\n",
       "      <td>53.35</td>\n",
       "    </tr>\n",
       "    <tr>\n",
       "      <th>...</th>\n",
       "      <td>...</td>\n",
       "      <td>...</td>\n",
       "      <td>...</td>\n",
       "      <td>...</td>\n",
       "      <td>...</td>\n",
       "      <td>...</td>\n",
       "      <td>...</td>\n",
       "      <td>...</td>\n",
       "      <td>...</td>\n",
       "    </tr>\n",
       "    <tr>\n",
       "      <th>295</th>\n",
       "      <td>ORD0296</td>\n",
       "      <td>Laptop</td>\n",
       "      <td>Electronics</td>\n",
       "      <td>9</td>\n",
       "      <td>495.82</td>\n",
       "      <td>2023-05-23</td>\n",
       "      <td>North</td>\n",
       "      <td>2023-05-23</td>\n",
       "      <td>4462.38</td>\n",
       "    </tr>\n",
       "    <tr>\n",
       "      <th>296</th>\n",
       "      <td>ORD0297</td>\n",
       "      <td>Monitor</td>\n",
       "      <td>Electronics</td>\n",
       "      <td>4</td>\n",
       "      <td>290.32</td>\n",
       "      <td>2023-07-24</td>\n",
       "      <td>North</td>\n",
       "      <td>2023-07-24</td>\n",
       "      <td>1161.28</td>\n",
       "    </tr>\n",
       "    <tr>\n",
       "      <th>297</th>\n",
       "      <td>ORD0298</td>\n",
       "      <td>Smartphone</td>\n",
       "      <td>Electronics</td>\n",
       "      <td>5</td>\n",
       "      <td>1476.12</td>\n",
       "      <td>2023-06-29</td>\n",
       "      <td>North</td>\n",
       "      <td>2023-06-29</td>\n",
       "      <td>7380.60</td>\n",
       "    </tr>\n",
       "    <tr>\n",
       "      <th>298</th>\n",
       "      <td>ORD0299</td>\n",
       "      <td>Headphones</td>\n",
       "      <td>Accessories</td>\n",
       "      <td>5</td>\n",
       "      <td>793.68</td>\n",
       "      <td>2023-02-22</td>\n",
       "      <td>West</td>\n",
       "      <td>2023-02-22</td>\n",
       "      <td>3968.40</td>\n",
       "    </tr>\n",
       "    <tr>\n",
       "      <th>299</th>\n",
       "      <td>ORD0300</td>\n",
       "      <td>Smartphone</td>\n",
       "      <td>Electronics</td>\n",
       "      <td>9</td>\n",
       "      <td>796.64</td>\n",
       "      <td>2023-05-31</td>\n",
       "      <td>East</td>\n",
       "      <td>2023-05-31</td>\n",
       "      <td>7169.76</td>\n",
       "    </tr>\n",
       "  </tbody>\n",
       "</table>\n",
       "<p>300 rows × 9 columns</p>\n",
       "</div>"
      ],
      "text/plain": [
       "     OrderID     Product     Category  Quantity  UnitPrice   OrderDate Region  \\\n",
       "0    ORD0001  Headphones  Accessories         4    1078.02  2023-08-15  South   \n",
       "1    ORD0002     Monitor  Electronics         9     700.55  2023-12-01   West   \n",
       "2    ORD0003      Camera  Electronics        10     241.99  2023-12-14   East   \n",
       "3    ORD0004       Mouse  Accessories         2    1407.45  2023-09-09   East   \n",
       "4    ORD0005     Printer       Office         1      53.35  2023-01-03  North   \n",
       "..       ...         ...          ...       ...        ...         ...    ...   \n",
       "295  ORD0296      Laptop  Electronics         9     495.82  2023-05-23  North   \n",
       "296  ORD0297     Monitor  Electronics         4     290.32  2023-07-24  North   \n",
       "297  ORD0298  Smartphone  Electronics         5    1476.12  2023-06-29  North   \n",
       "298  ORD0299  Headphones  Accessories         5     793.68  2023-02-22   West   \n",
       "299  ORD0300  Smartphone  Electronics         9     796.64  2023-05-31   East   \n",
       "\n",
       "         datet    total  \n",
       "0   2023-08-15  4312.08  \n",
       "1   2023-12-01  6304.95  \n",
       "2   2023-12-14  2419.90  \n",
       "3   2023-09-09  2814.90  \n",
       "4   2023-01-03    53.35  \n",
       "..         ...      ...  \n",
       "295 2023-05-23  4462.38  \n",
       "296 2023-07-24  1161.28  \n",
       "297 2023-06-29  7380.60  \n",
       "298 2023-02-22  3968.40  \n",
       "299 2023-05-31  7169.76  \n",
       "\n",
       "[300 rows x 9 columns]"
      ]
     },
     "execution_count": 12,
     "metadata": {},
     "output_type": "execute_result"
    }
   ],
   "source": [
    "import numpy as np\n",
    "df['total']=df['Quantity']*df['UnitPrice']\n",
    "df\n"
   ]
  },
  {
   "cell_type": "code",
   "execution_count": 13,
   "id": "1db7b103-9aa7-41c3-b3f7-9fd7b8144258",
   "metadata": {},
   "outputs": [],
   "source": [
    "df.to_csv('totaly.csv')"
   ]
  },
  {
   "cell_type": "code",
   "execution_count": 14,
   "id": "abd2a51c-a993-4598-a180-1d864efa16dd",
   "metadata": {},
   "outputs": [
    {
     "data": {
      "text/plain": [
       "Product\n",
       "Mouse         164\n",
       "Laptop        196\n",
       "Monitor       196\n",
       "Headphones    197\n",
       "Keyboard      197\n",
       "Camera        214\n",
       "Printer       214\n",
       "Smartphone    265\n",
       "Name: Quantity, dtype: int64"
      ]
     },
     "execution_count": 14,
     "metadata": {},
     "output_type": "execute_result"
    }
   ],
   "source": [
    "morsales=df.groupby('Product')['Quantity'].sum().sort_values()\n",
    "morsales"
   ]
  },
  {
   "cell_type": "code",
   "execution_count": 15,
   "id": "e6ece1d5-5bb1-4c7a-bc84-206310e993eb",
   "metadata": {},
   "outputs": [
    {
     "ename": "NameError",
     "evalue": "name 'plt' is not defined",
     "output_type": "error",
     "traceback": [
      "\u001b[1;31m---------------------------------------------------------------------------\u001b[0m",
      "\u001b[1;31mNameError\u001b[0m                                 Traceback (most recent call last)",
      "Cell \u001b[1;32mIn[15], line 3\u001b[0m\n\u001b[0;32m      1\u001b[0m top_products \u001b[38;5;241m=\u001b[39m df\u001b[38;5;241m.\u001b[39mgroupby(\u001b[38;5;124m'\u001b[39m\u001b[38;5;124mProduct\u001b[39m\u001b[38;5;124m'\u001b[39m)[\u001b[38;5;124m'\u001b[39m\u001b[38;5;124mQuantity\u001b[39m\u001b[38;5;124m'\u001b[39m]\u001b[38;5;241m.\u001b[39msum()\u001b[38;5;241m.\u001b[39msort_values(ascending\u001b[38;5;241m=\u001b[39m\u001b[38;5;28;01mFalse\u001b[39;00m)\u001b[38;5;241m.\u001b[39mhead(\u001b[38;5;241m10\u001b[39m)\n\u001b[0;32m      2\u001b[0m top_products\u001b[38;5;241m.\u001b[39mplot(kind\u001b[38;5;241m=\u001b[39m\u001b[38;5;124m'\u001b[39m\u001b[38;5;124mbar\u001b[39m\u001b[38;5;124m'\u001b[39m, title\u001b[38;5;241m=\u001b[39m\u001b[38;5;124m'\u001b[39m\u001b[38;5;124mTop 10 Products by Quantity Sold\u001b[39m\u001b[38;5;124m'\u001b[39m)\n\u001b[1;32m----> 3\u001b[0m plt\u001b[38;5;241m.\u001b[39mylabel(\u001b[38;5;124m'\u001b[39m\u001b[38;5;124mQuantity\u001b[39m\u001b[38;5;124m'\u001b[39m)\n\u001b[0;32m      4\u001b[0m plt\u001b[38;5;241m.\u001b[39mshow()\n",
      "\u001b[1;31mNameError\u001b[0m: name 'plt' is not defined"
     ]
    },
    {
     "data": {
      "image/png": "[encoded data removed]",
      "text/plain": [
       "<Figure size 640x480 with 1 Axes>"
      ]
     },
     "metadata": {},
     "output_type": "display_data"
    }
   ],
   "source": [
    "top_products = df.groupby('Product')['Quantity'].sum().sort_values(ascending=False).head(10)\n",
    "top_products.plot(kind='bar', title='Top 10 Products by Quantity Sold')\n",
    "plt.ylabel('Quantity')\n",
    "plt.show()\n"
   ]
  },
  {
   "cell_type": "code",
   "execution_count": null,
   "id": "157e33f5-a506-4ced-8d08-3352f5aaf2bc",
   "metadata": {},
   "outputs": [],
   "source": [
    "top_products.to_csv('top_products.csv')\n"
   ]
  },
  {
   "cell_type": "code",
   "execution_count": null,
   "id": "1640069c-48c2-4b4e-a796-73efd43fa7b2",
   "metadata": {},
   "outputs": [],
   "source": [
    "maxproduct=morsales.max()\n",
    "maxproduct"
   ]
  },
  {
   "cell_type": "code",
   "execution_count": null,
   "id": "95e1a006-f608-4548-ab62-3627e190ab20",
   "metadata": {},
   "outputs": [],
   "source": [
    "totabel=morsales.reset_index()\n",
    "totabel"
   ]
  },
  {
   "cell_type": "code",
   "execution_count": null,
   "id": "3dfa7ae6-b84c-4595-9634-378504e966c7",
   "metadata": {},
   "outputs": [],
   "source": [
    "import matplotlib.pyplot as plt\n",
    "\n",
    "# بياناتك\n",
    "import pandas as pd\n",
    "\n",
    "# data = {\n",
    "#     'Region': ['Central', 'East', 'North', 'South', 'West'],\n",
    "#     'TotalSales': [47189.214, 57474.286, 41668.536, 42893.506, 44248.624]\n",
    "# }\n",
    "\n",
    "df = pd.DataFrame(totabel)\n",
    "\n",
    "# رسم مخطط bar\n",
    "plt.figure(figsize=(12, 5))\n",
    "plt.bar(df['Product'], df['Quantity'], color='skyblue')\n",
    "plt.title('Total Sales by Region')\n",
    "plt.xlabel('pro')\n",
    "plt.ylabel('qq')\n",
    "#plt.xticks(rotation=45)\n",
    "#plt.tight_layout()\n",
    "plt.show()\n"
   ]
  },
  {
   "cell_type": "code",
   "execution_count": null,
   "id": "e0b6e3b3-70d7-48ee-a41d-c42b51dd3f26",
   "metadata": {},
   "outputs": [],
   "source": [
    "\n",
    "maxproductnam=totabel.max()\n",
    "maxproductnam"
   ]
  },
  {
   "cell_type": "code",
   "execution_count": null,
   "id": "d9a2a7af-ba6c-40b4-822e-bed4b100a767",
   "metadata": {},
   "outputs": [],
   "source": [
    "df['datet']=pd.to_datetime(df['OrderDate'])\n",
    "df['monat+jaher']=df['datet'].dt.to_period('M')\n",
    "df['monat']=df['datet'].dt.month\n",
    "df['monat']\n",
    "\n"
   ]
  },
  {
   "cell_type": "code",
   "execution_count": null,
   "id": "25435ff6-a6ad-4bfd-be7f-7cdb69a6250f",
   "metadata": {},
   "outputs": [],
   "source": [
    "totalsalesmonthly= df.groupby('monat')['total'].sum()\n",
    "\n",
    "totalsalesmonthly\n"
   ]
  },
  {
   "cell_type": "code",
   "execution_count": null,
   "id": "bc5f945a-6405-47d3-9224-af8d2459f86e",
   "metadata": {},
   "outputs": [],
   "source": [
    "sorttotalbycity= df.groupby('Region')['total'].sum().sort_values()\n",
    "sorttotalbycity"
   ]
  },
  {
   "cell_type": "code",
   "execution_count": null,
   "id": "c87db6db-7406-43a0-a1b5-197e7d531336",
   "metadata": {},
   "outputs": [],
   "source": [
    "cov=totalsalesmonthly.reset_index()\n",
    "cov"
   ]
  },
  {
   "cell_type": "code",
   "execution_count": null,
   "id": "9fa86f29-71ff-4524-9329-43b1ca36085c",
   "metadata": {},
   "outputs": [],
   "source": [
    "import matplotlib.pyplot as plt\n",
    "\n",
    "# بياناتك\n",
    "import pandas as pd\n",
    "\n",
    "# data = {\n",
    "#     'Region': ['Central', 'East', 'North', 'South', 'West'],\n",
    "#     'TotalSales': [47189.214, 57474.286, 41668.536, 42893.506, 44248.624]\n",
    "# }\n",
    "\n",
    "df = pd.DataFrame(totalsalesmonthly)\n",
    "\n",
    "# رسم مخطط bar\n",
    "#plt.figure(figsize=(8, 5))\n",
    "plt.bar(df['monat'], df['total'], color='skyblue')\n",
    "plt.title('Total Sales by monat')\n",
    "plt.xlabel('monat')\n",
    "plt.ylabel('Total Sales')\n",
    "#plt.xticks(rotation=45)\n",
    "#plt.tight_layout()\n",
    "plt.show()\n"
   ]
  },
  {
   "cell_type": "code",
   "execution_count": null,
   "id": "35f9c990-750e-4658-be9b-ca429ef9b2e4",
   "metadata": {},
   "outputs": [],
   "source": [
    "file=cov.to_csv('monatt.csv')"
   ]
  },
  {
   "cell_type": "code",
   "execution_count": null,
   "id": "2ed0d4f5-8906-4a20-a944-21378181bfb4",
   "metadata": {},
   "outputs": [],
   "source": [
    "\n",
    "totalbycity= df.groupby('Region')['total'].sum()/len('total')\n",
    "totalbycity\n",
    "\n",
    "\n"
   ]
  },
  {
   "cell_type": "code",
   "execution_count": null,
   "id": "5f223a44-d51d-4b63-a58a-6051993418bb",
   "metadata": {},
   "outputs": [],
   "source": [
    "converttotabel=totalbycity.reset_index()\n",
    "converttotabel"
   ]
  },
  {
   "cell_type": "code",
   "execution_count": null,
   "id": "5759a317-5a6e-4586-a287-e4ba6142ba26",
   "metadata": {},
   "outputs": [],
   "source": [
    "totalbycity.to_csv('totalbycity.csv')"
   ]
  },
  {
   "cell_type": "code",
   "execution_count": null,
   "id": "14e6ab26-d1c5-4534-ab11-a3185d576fb0",
   "metadata": {},
   "outputs": [],
   "source": [
    "import pandas as pd\n",
    "maxer=converttotabel.max()\n",
    "maxer\n",
    "\n"
   ]
  },
  {
   "cell_type": "code",
   "execution_count": null,
   "id": "43ce216d-beac-4c1e-9811-ce50b4fc303c",
   "metadata": {},
   "outputs": [],
   "source": [
    "minimur=converttotabel.min()\n",
    "minimur"
   ]
  },
  {
   "cell_type": "code",
   "execution_count": null,
   "id": "410717bf-0a70-48fd-a795-f08a1e2bdbe0",
   "metadata": {},
   "outputs": [],
   "source": [
    "import matplotlib.pyplot as plt\n",
    "\n",
    "# بياناتك\n",
    "import pandas as pd\n",
    "\n",
    "# data = {\n",
    "#     'Region': ['Central', 'East', 'North', 'South', 'West'],\n",
    "#     'TotalSales': [47189.214, 57474.286, 41668.536, 42893.506, 44248.624]\n",
    "# }\n",
    "\n",
    "df = pd.DataFrame(converttotabel)\n",
    "\n",
    "# رسم مخطط bar\n",
    "#plt.figure(figsize=(8, 5))\n",
    "plt.bar(df['Region'], df['total'], color='skyblue')\n",
    "plt.title('Total Sales by Region')\n",
    "plt.xlabel('Region')\n",
    "plt.ylabel('Total Sales')\n",
    "#plt.xticks(rotation=45)\n",
    "#plt.tight_layout()\n",
    "plt.show()\n"
   ]
  },
  {
   "cell_type": "code",
   "execution_count": null,
   "id": "2aee107f-6b0e-447d-9393-1e2ac5587e07",
   "metadata": {},
   "outputs": [],
   "source": [
    "df.to_csv('totalbycityt.csv')\n"
   ]
  },
  {
   "cell_type": "code",
   "execution_count": null,
   "id": "929f487e-0ca1-4c28-a8be-ecfc529cbe32",
   "metadata": {},
   "outputs": [],
   "source": [
    "df = pd.read_excel(r'C:\\Users\\AFAK\\sales_data_300.xlsx')\n",
    "df['OrderDate'] = pd.to_datetime(df['OrderDate'])\n",
    "daily = df[df['OrderDate'] == pd.to_datetime(\"today\").normalize()]\n",
    "print(\"Today's Sales:\", daily['UnitPrice'].sum())\n"
   ]
  },
  {
   "cell_type": "code",
   "execution_count": null,
   "id": "44ebe94b-fb71-445f-adb3-1036f8ef76fe",
   "metadata": {},
   "outputs": [],
   "source": [
    "df"
   ]
  },
  {
   "cell_type": "code",
   "execution_count": null,
   "id": "b26c3f16-1a70-42d6-b396-e3c1709f919d",
   "metadata": {},
   "outputs": [],
   "source": []
  },
  {
   "cell_type": "code",
   "execution_count": null,
   "id": "30f07e32-8279-43af-8bb9-cf7477aec18a",
   "metadata": {},
   "outputs": [],
   "source": []
  },
  {
   "cell_type": "code",
   "execution_count": null,
   "id": "90403745-b351-4f3e-9313-400cac854d0b",
   "metadata": {},
   "outputs": [],
   "source": []
  },
  {
   "cell_type": "code",
   "execution_count": null,
   "id": "4c7a7713-4f61-42af-a529-94790a389c82",
   "metadata": {},
   "outputs": [],
   "source": []
  },
  {
   "cell_type": "code",
   "execution_count": null,
   "id": "7127aaf1-664d-418a-9686-476b4c390a29",
   "metadata": {},
   "outputs": [],
   "source": []
  },
  {
   "cell_type": "code",
   "execution_count": null,
   "id": "422ddc5a-d279-430a-819c-5c43433b286b",
   "metadata": {},
   "outputs": [],
   "source": []
  },
  {
   "cell_type": "code",
   "execution_count": null,
   "id": "46be06d1-7cf9-4fcf-a87e-61842a1b10b1",
   "metadata": {},
   "outputs": [],
   "source": []
  },
  {
   "cell_type": "code",
   "execution_count": null,
   "id": "96870ee8-2f2f-4b09-bf54-6bac387ce2d1",
   "metadata": {},
   "outputs": [],
   "source": []
  },
  {
   "cell_type": "code",
   "execution_count": null,
   "id": "86dcfde9-9a03-4888-88bc-98d34f1a89c9",
   "metadata": {},
   "outputs": [],
   "source": []
  },
  {
   "cell_type": "code",
   "execution_count": null,
   "id": "bb8d066f-9bdd-441a-a111-42b228c07b45",
   "metadata": {},
   "outputs": [],
   "source": []
  },
  {
   "cell_type": "code",
   "execution_count": null,
   "id": "0a33a9ac-8e17-4534-b3a5-57e129eb52bf",
   "metadata": {},
   "outputs": [],
   "source": []
  }
 ],
 "metadata": {
  "kernelspec": {
   "display_name": "Python [conda env:base] *",
   "language": "python",
   "name": "conda-base-py"
  },
  "language_info": {
   "codemirror_mode": {
    "name": "ipython",
    "version": 3
   },
   "file_extension": ".py",
   "mimetype": "text/x-python",
   "name": "python",
   "nbconvert_exporter": "python",
   "pygments_lexer": "ipython3",
   "version": "3.12.7"
  }
 },
 "nbformat": 4,
 "nbformat_minor": 5
}
